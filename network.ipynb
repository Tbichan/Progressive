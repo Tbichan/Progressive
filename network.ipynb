{
 "cells": [
  {
   "cell_type": "code",
   "execution_count": 1,
   "metadata": {
    "collapsed": true
   },
   "outputs": [],
   "source": [
    "import os\n",
    "os.environ[\"CHAINER_TYPE_CHECK\"] = \"0\"\n",
    "\n",
    "import math\n",
    "import random\n",
    "import numpy as np\n",
    "import chainer\n",
    "from chainer import cuda, Chain, optimizers, Variable, serializers, Link\n",
    "import chainer.functions as F\n",
    "import chainer.links as L\n",
    "\n",
    "import cv2"
   ]
  },
  {
   "cell_type": "code",
   "execution_count": 2,
   "metadata": {
    "collapsed": true
   },
   "outputs": [],
   "source": [
    "class EqualizedConv2d(chainer.Chain):\n",
    "    def __init__(self, in_ch, out_ch, ksize, stride, pad):\n",
    "        w = chainer.initializers.Normal(1.0) # equalized learning rate\n",
    "        self.inv_c = np.sqrt(2.0/(in_ch*ksize**2))\n",
    "        super(EqualizedConv2d, self).__init__()\n",
    "        with self.init_scope():\n",
    "            self.c = L.Convolution2D(in_ch, out_ch, ksize, stride, pad, initialW=w)\n",
    "            \n",
    "    def __call__(self, x):\n",
    "        return self.c(self.inv_c * x)"
   ]
  },
  {
   "cell_type": "code",
   "execution_count": 3,
   "metadata": {
    "collapsed": true
   },
   "outputs": [],
   "source": [
    "def feature_vector_normalization(x, eps=1e-8):\n",
    "    \n",
    "    alpha = 1.0 / F.sqrt(F.mean(x*x, axis=1, keepdims=True) + eps)\n",
    "    return F.broadcast_to(alpha, x.data.shape) * x"
   ]
  },
  {
   "cell_type": "code",
   "execution_count": 4,
   "metadata": {
    "collapsed": true
   },
   "outputs": [],
   "source": [
    "class DownSampleBlock(chainer.Chain):\n",
    "    def __init__(self, in_ch, out_ch):\n",
    "        super(DownSampleBlock, self).__init__()\n",
    "        with self.init_scope():\n",
    "            self.c0 = EqualizedConv2d(in_ch, in_ch, 3, 1, 1)\n",
    "            self.c1 = EqualizedConv2d(in_ch, out_ch, 3, 1, 1)\n",
    "            \n",
    "    def __call__(self, x):\n",
    "        \n",
    "        # downsampling -> conv -> conv\n",
    "        \n",
    "        h = F.average_pooling_2d(x, 2, 2, 0)\n",
    "        h = F.leaky_relu(feature_vector_normalization(self.c0(h)))\n",
    "        h = F.leaky_relu(feature_vector_normalization(self.c1(h)))\n",
    "        \n",
    "        return h"
   ]
  },
  {
   "cell_type": "code",
   "execution_count": 5,
   "metadata": {
    "collapsed": true
   },
   "outputs": [],
   "source": [
    "class UpSampleBlock(chainer.Chain):\n",
    "    def __init__(self, in_ch, out_ch):\n",
    "        super(UpSampleBlock, self).__init__()\n",
    "        with self.init_scope():\n",
    "            self.c0 = EqualizedConv2d(in_ch, out_ch, 3, 1, 1)\n",
    "            self.c1 = EqualizedConv2d(out_ch, out_ch, 3, 1, 1)\n",
    "            \n",
    "    def __call__(self, x):\n",
    "        \n",
    "        # conv -> conv -> upsampling\n",
    "        \n",
    "        h = x\n",
    "        h = F.leaky_relu(feature_vector_normalization(self.c0(h)))\n",
    "        h = F.leaky_relu(feature_vector_normalization(self.c1(h)))\n",
    "        \n",
    "        h = F.unpooling_2d(h, 2, 2, 0, outsize=(h.shape[2]*2, h.shape[3]*2))\n",
    "        \n",
    "        return h"
   ]
  },
  {
   "cell_type": "code",
   "execution_count": 6,
   "metadata": {},
   "outputs": [],
   "source": [
    "class UNet(chainer.Chain):\n",
    "    def __init__(self, in_ch, out_ch):\n",
    "        super(UNet, self).__init__()\n",
    "        \n",
    "        self.R = (32, 64, 128, 256, 512)\n",
    "        \n",
    "        with self.init_scope():\n",
    "            self.c0 = EqualizedConv2d(in_ch, self.R[0], 3, 1, 1)\n",
    "            self.c1 = EqualizedConv2d(self.R[0], self.R[0], 3, 1, 1)\n",
    "            \n",
    "            # down\n",
    "            self.d1 = DownSampleBlock(self.R[0], self.R[1])\n",
    "            self.d2 = DownSampleBlock(self.R[1], self.R[2])\n",
    "            self.d3 = DownSampleBlock(self.R[2], self.R[3])\n",
    "            self.d4 = DownSampleBlock(self.R[3], self.R[4])\n",
    "            \n",
    "            # middle\n",
    "            self.m0 = DownSampleBlock(self.R[4], self.R[4])\n",
    "            \n",
    "            # up\n",
    "            self.u4 = UpSampleBlock(self.R[4]*2, self.R[3])\n",
    "            self.u3 = UpSampleBlock(self.R[3]*2, self.R[2])\n",
    "            self.u2 = UpSampleBlock(self.R[2]*2, self.R[1])\n",
    "            self.u1 = UpSampleBlock(self.R[1]*2, self.R[0])\n",
    "            \n",
    "            self.c2 = EqualizedConv2d(self.R[0]*2, self.R[0], 3, 1, 1)\n",
    "            self.c3 = EqualizedConv2d(self.R[0], self.R[0], 3, 1, 1)\n",
    "            \n",
    "            self.out = EqualizedConv2d(self.R[0], out_ch, 3, 1, 1)\n",
    "    \n",
    "    def __call__(self, x):\n",
    "        \n",
    "        h = F.leaky_relu(feature_vector_normalization(self.c0(x)))\n",
    "        h0 = F.leaky_relu(feature_vector_normalization(self.c1(h)))\n",
    "        \n",
    "        # down\n",
    "        h1 = self.d1(h0)\n",
    "        h2 = self.d2(h1)\n",
    "        h3 = self.d3(h2)\n",
    "        h4 = self.d4(h3)\n",
    "        \n",
    "        # middle and upsampling\n",
    "        h5 = self.m0(h4)\n",
    "        h5 = F.unpooling_2d(h5, 2, 2, 0, outsize=(h5.shape[2]*2, h5.shape[3]*2))\n",
    "        \n",
    "        # concat and up\n",
    "        h6 = self.u4(F.concat([h5, h4], axis=1))\n",
    "        h7 = self.u3(F.concat([h6, h3], axis=1))\n",
    "        h8 = self.u2(F.concat([h7, h2], axis=1))\n",
    "        h9 = self.u1(F.concat([h8, h1], axis=1))\n",
    "        \n",
    "        # last\n",
    "        h = F.leaky_relu(feature_vector_normalization(self.c2(F.concat([h9, h0], axis=1))))\n",
    "        h = F.leaky_relu(feature_vector_normalization(self.c3(h)))\n",
    "        \n",
    "        return F.relu(self.out(h))\n",
    "    \n",
    "    def dice_loss(self, y_true, y_pred):\n",
    "        \n",
    "        batch_size = y_true.data.shape[0]\n",
    "        \n",
    "        intersection = F.sum(y_true*y_pred) / batch_size\n",
    "        \n",
    "        return 2.0 * intersection / (F.sum(y_true) / batch_size + F.sum(y_pred) / batch_size + 1e-8)\n",
    "        "
   ]
  },
  {
   "cell_type": "code",
   "execution_count": 7,
   "metadata": {
    "collapsed": true
   },
   "outputs": [],
   "source": [
    "def find_all_file(directory):\n",
    "    for root, dirs, files in os.walk(directory):\n",
    "        yield root\n",
    "        for file in files:\n",
    "            yield os.path.join(root, file)"
   ]
  },
  {
   "cell_type": "code",
   "execution_count": 8,
   "metadata": {},
   "outputs": [],
   "source": [
    "imgs = []\n",
    "labels = []\n",
    "\n",
    "out_dim = 17\n",
    "\n",
    "width = 256\n",
    "height = 256\n",
    "\n",
    "for file in find_all_file('./base'):\n",
    "    if file.find('.jpg') == -1: continue\n",
    "    if file.find('train') == -1: continue\n",
    "    \n",
    "    img = cv2.imread(file)\n",
    "    img = cv2.resize(img, (width, height), interpolation=cv2.INTER_AREA)\n",
    "    img = img.transpose(2,0,1).astype(\"f\")/128.0-1.0\n",
    "    \n",
    "    label = cv2.imread(file.replace('train', 'label'), cv2.IMREAD_GRAYSCALE)\n",
    "    label = cv2.resize(label, (width, height), interpolation=cv2.INTER_AREA)\n",
    "    #label = np.reshape(label, (width, height, 1)).astype(\"i\")\n",
    "    \n",
    "    label_dim = np.zeros((out_dim, label.shape[0], label.shape[1])).astype(\"f\")\n",
    "    \n",
    "    for j in range(out_dim):\n",
    "        label_dim[j,:] = label == j\n",
    "    \n",
    "    #print(label_dim)\n",
    "    # add_\n",
    "    imgs.append(img)\n",
    "    labels.append(label_dim)\n",
    "    \n",
    "imgs = np.asarray(imgs).astype('f')\n",
    "labels = np.asarray(labels).astype('f')"
   ]
  },
  {
   "cell_type": "code",
   "execution_count": 9,
   "metadata": {},
   "outputs": [
    {
     "data": {
      "text/plain": [
       "<chainer.optimizers.adam.Adam at 0x7f26cab08be0>"
      ]
     },
     "execution_count": 9,
     "metadata": {},
     "output_type": "execute_result"
    }
   ],
   "source": [
    "unet = UNet(3, out_dim)\n",
    "batch_size=2\n",
    "\n",
    "optimizer = optimizers.Adam()\n",
    "#optimizer = o)ptimizers.Adam(alpha=0.001, beta1=0.0, beta2=0.99)\n",
    "optimizer.setup(unet)\n",
    "\n",
    "\n",
    "    "
   ]
  },
  {
   "cell_type": "code",
   "execution_count": null,
   "metadata": {},
   "outputs": [
    {
     "name": "stdout",
     "output_type": "stream",
     "text": [
      "161\n"
     ]
    }
   ],
   "source": [
    "train_num = len(imgs)\n",
    "print(train_num)"
   ]
  },
  {
   "cell_type": "code",
   "execution_count": null,
   "metadata": {
    "scrolled": true
   },
   "outputs": [
    {
     "name": "stdout",
     "output_type": "stream",
     "text": [
      "0 0.9598525762557983 0.040147412568330765\n",
      "4 0.9535766839981079 0.0464232936501503\n",
      "8 0.9371452927589417 0.06285470724105835\n",
      "12 0.8921831250190735 0.1078168973326683\n",
      "16 0.86331707239151 0.1366829127073288\n",
      "20 0.8462271094322205 0.15377290546894073\n",
      "24 0.8831335306167603 0.11686649918556213\n",
      "28 0.8957775831222534 0.10422242432832718\n",
      "32 0.805911123752594 0.194088876247406\n",
      "36 0.820465624332428 0.17953436076641083\n",
      "40 0.7619314193725586 0.2380686104297638\n",
      "44 0.7761659622192383 0.2238340675830841\n",
      "48 0.7730020880699158 0.22699792683124542\n",
      "52 0.7813543081283569 0.21864570677280426\n",
      "56 0.7008681297302246 0.299131840467453\n",
      "60 0.7101012468338013 0.28989872336387634\n",
      "64 0.8272091746330261 0.17279081046581268\n",
      "68 0.7123072147369385 0.2876928150653839\n",
      "72 0.6952790021896362 0.3047209680080414\n",
      "76 0.645759642124176 0.354240357875824\n",
      "80 0.7181050777435303 0.28189489245414734\n",
      "84 0.6776475310325623 0.32235246896743774\n",
      "88 0.670186460018158 0.32981353998184204\n",
      "92 0.6739155650138855 0.3260844349861145\n",
      "96 0.6797057390213013 0.32029426097869873\n",
      "100 0.6872203350067139 0.3127796947956085\n",
      "104 0.577338457107544 0.42266154289245605\n",
      "108 0.6236388087272644 0.3763611912727356\n",
      "112 0.5943021774291992 0.40569785237312317\n",
      "116 0.5882612466812134 0.41173872351646423\n",
      "120 0.537108302116394 0.46289166808128357\n",
      "124 0.5675546526908875 0.43244534730911255\n"
     ]
    }
   ],
   "source": [
    "batch_num = 4\n",
    "xp = np\n",
    "\n",
    "for epoch in range(100):\n",
    "    \n",
    "    serializers.save_npz(\"unet\" + str(epoch) + \".npz\", unet)\n",
    "    \n",
    "    perm = np.random.permutation(train_num)\n",
    "    for i in range(0, train_num, batch_num):\n",
    "    \n",
    "        indies = perm[i:i+batch_num]\n",
    "        #print(indies.tolist())\n",
    "\n",
    "        # real_image and label batch\n",
    "        image_batch = imgs[indies]\n",
    "        label_batch = labels[indies]\n",
    "        \n",
    "        #print(image_batch.shape, label_batch.shape)\n",
    "        \n",
    "        image_batch = Variable(xp.asarray(image_batch, dtype=np.float32))\n",
    "        label_batch = Variable(xp.asarray(label_batch, dtype='f'))\n",
    "        \n",
    "        fake_label = unet(image_batch)\n",
    "        \n",
    "        dice = unet.dice_loss(label_batch, fake_label)\n",
    "        loss = 1.0 - dice\n",
    "        \n",
    "        #print(i)\n",
    "\n",
    "        unet.cleargrads()\n",
    "        loss.backward()\n",
    "        optimizer.update()\n",
    "        \n",
    "        print(i, loss.data, dice.data)"
   ]
  },
  {
   "cell_type": "code",
   "execution_count": null,
   "metadata": {
    "collapsed": true
   },
   "outputs": [],
   "source": []
  }
 ],
 "metadata": {
  "anaconda-cloud": {},
  "kernelspec": {
   "display_name": "Python 3",
   "language": "python",
   "name": "python3"
  },
  "language_info": {
   "codemirror_mode": {
    "name": "ipython",
    "version": 3
   },
   "file_extension": ".py",
   "mimetype": "text/x-python",
   "name": "python",
   "nbconvert_exporter": "python",
   "pygments_lexer": "ipython3",
   "version": "3.5.4"
  }
 },
 "nbformat": 4,
 "nbformat_minor": 1
}
